{
 "metadata": {
  "name": "",
  "signature": "sha256:0894994309f984168285cad294b836b965c40a62a80e686c830e4b18f583f5d8"
 },
 "nbformat": 3,
 "nbformat_minor": 0,
 "worksheets": [
  {
   "cells": [
    {
     "cell_type": "code",
     "collapsed": false,
     "input": [
      "\"\"\"\n",
      "Author: CHANDRAMOHAN T N\n",
      "File: FTRL.py \n",
      "\"\"\"\n",
      "\n",
      "import math\n",
      "%matplotlib inline\n",
      "import numpy as np\n",
      "import matplotlib.pyplot as plt\n",
      "from sklearn.metrics import accuracy_score\n",
      "from sklearn.metrics import precision_recall_curve\n",
      "from sklearn.metrics import precision_recall_fscore_support\n",
      "from sklearn import metrics\n",
      "import sys\n",
      "\n",
      "def Get_data(i_f):\n",
      "    f = open(i_f, 'r')\n",
      "    data = []\n",
      "    while 1:\n",
      "        line = f.readline()\n",
      "        line = line[0:-1]\n",
      "        if len(line) > 0:\n",
      "            items = map(int, line.split(','))\n",
      "            data.append(items)\n",
      "        else:\n",
      "            f.close()\n",
      "            break\n",
      "    return data\n",
      "\n",
      "def Get_labels(i_f):\n",
      "    f = open(i_f, 'r')\n",
      "    labels = []\n",
      "    while 1:\n",
      "        line = f.readline()\n",
      "        line = line[0:-1]\n",
      "        if len(line) > 0:\n",
      "            labels.append(int(line))\n",
      "        else:\n",
      "            f.close\n",
      "            break\n",
      "    return labels\n",
      "\n",
      "def sigmoid(x):\n",
      "    return 1.0 / (1.0 + np.exp(-x))\n",
      "\n",
      "def log_likelihood(x, y, w):\n",
      "    p = sigmoid(np.dot(x, w))\n",
      "    loss = -y * np.log(p) - (1 - y) * np.log(1 - p)\n",
      "    return loss.mean()\n",
      "\n",
      "def gradient(x, y, w):\n",
      "    p = sigmoid(np.dot(x, w))\n",
      "    grad = np.dot(np.transpose(x), (p - y))\n",
      "    return grad.reshape(w.shape)\n",
      "\n",
      "def plot(a, b, c, x, l, n):\n",
      "    plt.plot(x, a, 'r', label='AUC Loss')\n",
      "    plt.plot(x, b, 'g', label='Log Loss')\n",
      "    plt.plot(x, c, 'b', label='Sq Error')\n",
      "    plt.title(l)\n",
      "    plt.legend(loc='upper right')\n",
      "    plt.ylabel('Loss')\n",
      "    if n == 1:\n",
      "        plt.xlabel('Iteration')\n",
      "        plt.savefig('FTRL Test Loss.png')\n",
      "    else:\n",
      "        plt.xlabel('Lambda')\n",
      "        plt.savefig('FTRL Performance.png')\n",
      "    plt.show()\n",
      "    plt.close()\n",
      "\n",
      "class FTRL(object):\n",
      "\n",
      "    def __init__(self, x, y):\n",
      "        self.x = np.concatenate((np.ones((len(x), 1)), np.array(x)), axis=1)\n",
      "        self.y = np.array(y).reshape(len(y), 1)\n",
      "        self.w = np.zeros((self.x.shape[1], 1))\n",
      "        self.z = np.zeros((self.x.shape[1], 1))\n",
      "        self.pl_rate = 0.0\n",
      "        self.cl_rate = int(math.sqrt(1.0) * 10000) * 1.0 / 10000\n",
      "        self.t = 0.0\n",
      "\n",
      "    def train_ogd(self, lmbda, idx):\n",
      "        x = self.x[idx * 1: (idx+1) * 1]\n",
      "        y = self.y[idx * 1: (idx+1) * 1]\n",
      "        self.z = self.z + gradient(x, y, self.w) + (self.cl_rate - self.pl_rate) * self.w\n",
      "        temp = np.zeros((self.w.shape[0], 1))\n",
      "        indx = ((np.absolute(self.z) > lmbda).nonzero())[0]\n",
      "        for k in indx:\n",
      "            temp[k] = (-1.0 / self.cl_rate) * (self.z[k] - np.sign(self.z[k]) * lmbda)\n",
      "        self.w = temp\n",
      "        self.pl_rate = self.cl_rate\n",
      "        self.cl_rate = int(math.sqrt(self.t+1.0) * 10000) * 1.0 / 10000\n",
      "        self.t += 1\n",
      "        return self.w\n",
      "\n",
      "    def update_weights(self, w):\n",
      "        self.w = w\n",
      "\n",
      "    def save_model(self):\n",
      "        np.savez_compressed('Model_ftrl', w=self.w, z=self.z)\n",
      "\n",
      "    def predict(self, x):\n",
      "        labels = [0 for i in xrange(len(x))]\n",
      "        p = sigmoid(np.dot(x, self.w))\n",
      "        for i in xrange(len(x)):\n",
      "            if p[i] > 0.5:\n",
      "                labels[i] = 1\n",
      "        return p, labels\n",
      "\n",
      "    def evaluate(self, y_pred, y_true, test_x):\n",
      "        fpr, tpr, thresholds = metrics.roc_curve(y_true, y_pred)\n",
      "        auc = metrics.auc(fpr, tpr)\n",
      "        auc_loss = 1 - auc\n",
      "        log_loss = log_likelihood(test_x, y_true, self.w)\n",
      "        sq_error = np.sum((y_pred - y_true)**2) / y_pred.shape[0]\n",
      "        return auc_loss, log_loss, sq_error\n",
      "    \n",
      "    def perf_metrics(self, y_real, y_pred, y_prob):\n",
      "        precision, recall, thresholds = precision_recall_curve(y_real, y_prob)\n",
      "        plt.plot(precision, recall, 'r')\n",
      "        plt.ylabel('Precision')\n",
      "        plt.xlabel('Recall')\n",
      "        plt.savefig('PR_curve_ftrl.png')\n",
      "        plt.show()\n",
      "        print('Accuracy:')\n",
      "        print(accuracy_score(y_real, y_pred))\n",
      "        print('Precison : Recall : F-score')\n",
      "        print(precision_recall_fscore_support(y_real, y_pred))\n",
      "        print('Total # features: ' + str(self.w.shape[0]))\n",
      "        n = np.nonzero(self.w)[0]\n",
      "        print('% of non-zero features: ' + str(len(n) * 1.0 / self.w.shape[0]))\n",
      "\n",
      "def main():\n",
      "    i_f = '../Data/books/Train_x.csv'\n",
      "    train_x = Get_data(i_f)\n",
      "    i_f = '../Data/books/Test_x.csv'\n",
      "    test_x = Get_data(i_f)\n",
      "    test_x = np.concatenate((np.ones((len(test_x), 1)), np.array(test_x)), axis=1)\n",
      "    i_f = '../Data/books/Train_y.csv'\n",
      "    train_y = Get_labels(i_f)\n",
      "    i_f = '../Data/books/Test_y.csv'\n",
      "    test_y = Get_labels(i_f)\n",
      "    test_y = np.reshape(test_y, (test_x.shape[0], 1))\n",
      "\n",
      "    max_iter = 15000\n",
      "    lmbda = [i for i in range(1, 11)]\n",
      "    prev_auc_loss = sys.maxint\n",
      "    te_auc_loss = []\n",
      "    te_log_loss = []\n",
      "    te_sq_error = []\n",
      "    for l in lmbda:\n",
      "        print('Lambda: ' + str(l))\n",
      "        ftrl_reg = FTRL(train_x, train_y)\n",
      "        tr_auc_loss = []\n",
      "        tr_log_loss = []\n",
      "        tr_sq_error = []\n",
      "        for i in range(max_iter):\n",
      "            idx = np.random.randint(len(train_x))\n",
      "            w = ftrl_reg.train_ogd(l, idx)\n",
      "            ftrl_reg.update_weights(w)\n",
      "            if (i+1) % 500 == 0:\n",
      "                y_prob, y_pred = ftrl_reg.predict(test_x)\n",
      "                a, b, c = ftrl_reg.evaluate(y_prob, test_y, test_x)\n",
      "                tr_auc_loss.append(a)\n",
      "                tr_log_loss.append(b)\n",
      "                tr_sq_error.append(c)\n",
      "        y_prob, y_pred = ftrl_reg.predict(test_x)\n",
      "        a, b, c = ftrl_reg.evaluate(y_prob, test_y, test_x)\n",
      "        te_auc_loss.append(a)\n",
      "        te_log_loss.append(b)\n",
      "        te_sq_error.append(c)\n",
      "        if a < prev_auc_loss:\n",
      "            prev_auc_loss = a\n",
      "            best_l = l\n",
      "            ftrl_reg.save_model()\n",
      "            r = [k for k in range(len(tr_auc_loss))]\n",
      "            plot(tr_auc_loss, tr_log_loss, tr_sq_error, r, 'FTRL Test_loss, lambda= ' + str(best_l), 1)\n",
      "    plot(te_auc_loss, te_log_loss, te_sq_error, lmbda, 'FTRL Performance', 2)\n",
      "    a = np.load('Model_ftrl.npz')\n",
      "    w = a['w']\n",
      "    ftrl_reg.update_weights(w)\n",
      "    y_prob, y_pred = ftrl_reg.predict(test_x)\n",
      "    ftrl_reg.perf_metrics(test_y, y_pred, y_prob)\n",
      "    \n",
      "if __name__ == '__main__':\n",
      "    main()\n"
     ],
     "language": "python",
     "metadata": {},
     "outputs": [
      {
       "output_type": "stream",
       "stream": "stdout",
       "text": [
        "Lambda: 1\n"
       ]
      },
      {
       "metadata": {},
       "output_type": "display_data",
       "png": "[encoded data removed]",
       "text": [
        "<matplotlib.figure.Figure at 0x27ba7518>"
       ]
      },
      {
       "output_type": "stream",
       "stream": "stdout",
       "text": [
        "Lambda: 2\n",
        "Lambda: 3"
       ]
      },
      {
       "output_type": "stream",
       "stream": "stdout",
       "text": [
        "\n",
        "Lambda: 4"
       ]
      },
      {
       "output_type": "stream",
       "stream": "stdout",
       "text": [
        "\n",
        "Lambda: 5"
       ]
      },
      {
       "output_type": "stream",
       "stream": "stdout",
       "text": [
        "\n",
        "Lambda: 6"
       ]
      },
      {
       "output_type": "stream",
       "stream": "stdout",
       "text": [
        "\n",
        "Lambda: 7"
       ]
      },
      {
       "output_type": "stream",
       "stream": "stdout",
       "text": [
        "\n",
        "Lambda: 8"
       ]
      },
      {
       "output_type": "stream",
       "stream": "stdout",
       "text": [
        "\n",
        "Lambda: 9"
       ]
      },
      {
       "output_type": "stream",
       "stream": "stdout",
       "text": [
        "\n",
        "Lambda: 10"
       ]
      },
      {
       "output_type": "stream",
       "stream": "stdout",
       "text": [
        "\n"
       ]
      },
      {
       "metadata": {},
       "output_type": "display_data",
       "png": "[encoded data removed]",
       "text": [
        "<matplotlib.figure.Figure at 0x5177f1d0>"
       ]
      },
      {
       "metadata": {},
       "output_type": "display_data",
       "png": "[encoded data removed]",
       "text": [
        "<matplotlib.figure.Figure at 0x511fcfd0>"
       ]
      },
      {
       "output_type": "stream",
       "stream": "stdout",
       "text": [
        "Accuracy:\n",
        "0.7675\n",
        "Precison : Recall : F-score\n",
        "(array([ 0.78095238,  0.75263158]), array([ 0.77725118,  0.75661376]), array([ 0.77909739,  0.75461741]), array([211, 189], dtype=int64))"
       ]
      },
      {
       "output_type": "stream",
       "stream": "stdout",
       "text": [
        "\n",
        "Total # features: 21699\n",
        "% of non-zero features: 0.701691322181\n"
       ]
      }
     ],
     "prompt_number": 4
    },
    {
     "cell_type": "code",
     "collapsed": false,
     "input": [],
     "language": "python",
     "metadata": {},
     "outputs": []
    }
   ],
   "metadata": {}
  }
 ]
}